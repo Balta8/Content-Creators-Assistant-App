{
 "cells": [
  {
   "cell_type": "markdown",
   "metadata": {},
   "source": [
    "# Importing Libraries"
   ]
  },
  {
   "cell_type": "code",
   "execution_count": null,
   "metadata": {},
   "outputs": [],
   "source": [
    "# Initialize the model\n",
    "apikey = 'your api'\n",
    "url = 'your url'\n",
    "authenticator = IAMAuthenticator(apikey)\n",
    "tts = TextToSpeechV1(authenticator=authenticator)\n",
    "tts.set_service_url(url)"
   ]
  },
  {
   "cell_type": "markdown",
   "metadata": {},
   "source": [
    "# Define Function To Generate Voice "
   ]
  },
  {
   "cell_type": "code",
   "execution_count": null,
   "metadata": {},
   "outputs": [],
   "source": [
    "def generate_speech(text, language_choice, gender):\n",
    "    try:\n",
    "        # Choose voice based on language preference\n",
    "        if language_choice == 'Fr':\n",
    "            voice = 'fr-FR_ReneeV3Voice'\n",
    "        elif language_choice == 'En':\n",
    "            voice = 'en-US_AllisonV3Voice' if gender == 'Female' else 'en-AU_JackExpressive'\n",
    "        \n",
    "        # Convert the user text to speech\n",
    "        file_path = 'user_voice.mp3'  \n",
    "        with open(file_path, 'wb') as audio_file:\n",
    "            res = tts.synthesize(text, accept='audio/mp3', voice=voice).get_result()\n",
    "            audio_file.write(res.content)\n",
    "        return file_path\n",
    "    except Exception as e:\n",
    "        print(f\"Error generating audio: {e}\")\n",
    "        return None"
   ]
  },
  {
   "cell_type": "markdown",
   "metadata": {},
   "source": [
    "# Function Take Input From User"
   ]
  },
  {
   "cell_type": "code",
   "execution_count": null,
   "metadata": {},
   "outputs": [],
   "source": [
    "def main():\n",
    "    # Get user input\n",
    "    text = input(\"Enter the text to convert to speech: \")\n",
    "    language_choice = input(\"Choose language (En/Fr): \")\n",
    "    gender = input(\"Choose gender (Male/Female): \")\n",
    "\n",
    "    # Generate and play audio\n",
    "    audio_file_path = generate_speech(text, language_choice, gender)\n",
    "    if audio_file_path:\n",
    "        song = AudioSegment.from_mp3(audio_file_path)\n",
    "        print(\"Playing audio...\")\n",
    "        play(song)\n"
   ]
  },
  {
   "cell_type": "code",
   "execution_count": null,
   "metadata": {},
   "outputs": [],
   "source": [
    "if __name__ == '__main__':"
   ]
  }
 ],
 "metadata": {
  "kernelspec": {
   "display_name": "Python 3",
   "language": "python",
   "name": "python3"
  },
  "language_info": {
   "name": "python",
   "version": "3.11.9"
  }
 },
 "nbformat": 4,
 "nbformat_minor": 2
}
